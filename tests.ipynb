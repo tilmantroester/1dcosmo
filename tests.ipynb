#%%
% matplotlib inline
import matplotlib.pyplot as plt
import numpy as np

import scipy.interpolate

from imp import reload

import utils

pi = np.pi
#%%
reload(utils)

def P(k):
    p = np.zeros_like(k)
    p[k!=0] = k[k!=0]**-1
    return p
    #return np.ones_like(k)

n_grid = 1000
L = 1
n = 100
n_k_bin = 10
k_min = 10
k_max =  3000
Pk = np.empty((n, n_k_bin))

for i in range(n):
    d = utils.create_Gaussian_field_1d(P, n_grid, L)
    Pk[i], _, k_mean, _ = utils.calculate_pseudo_P_k_1d(d, d, L, 
                                        k_min=k_min, k_max=k_max, n_k_bin=n_k_bin, logspaced=True)

fig, plots = plt.subplots(1, 2)
plots[0].plot(d)

k = np.logspace(np.log10(k_min), np.log10(k_max), 100)
plots[1].loglog(k, P(k))
plots[1].errorbar(k_mean, np.mean(Pk, axis=0), np.std(Pk, axis=0)/np.sqrt(n))

#%%
7 % 2