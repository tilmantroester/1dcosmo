#%%
import importlib

import numpy as np
import matplotlib.pyplot as plt
from matplotlib import animation, rc

import cosmology
import utils

pi = np.pi

#%%
# 2 body validation
importlib.reload(cosmology)
importlib.reload(utils)

def exact_two_body(x0, v0, m, t):
    dx0 = x0[0] - x0[1]
    dv0 = v0[0] - v0[1]
    t_crossing = (-dv0+np.sqrt(dv0**2-4*m*dx0))/(2*m)
    f0 = m*np.array([1, -1])*(2*(x0[0]<x0[1]) - 1)

    if t < t_crossing:
        x = x0 + v0*t + 0.5*f0*t**2
        v = v0 + f0*t
    else:
        dvx = dv0 + 2*m*t_crossing
        t_orbit = dvx/m
        x_cm = np.sum(x0)/2
        v_cm = np.sum(v0)/2
        n_crossing = int((t-t_crossing)/t_orbit) + 1
        orientation = 2*(n_crossing % 2) - 1
        t0 = (t-t_crossing) % t_orbit
        f = m*np.array([-1, 1])*orientation

        vx = v_cm + dvx/2*orientation*np.array([1, -1])
        x = vx*t0 + 0.5*f*t0**2
        v = vx + f*t0
        x += x_cm + v_cm*(t_crossing+(n_crossing-1)*t_orbit)

    return x, v


n_particle = 2
L = 2*pi
n_grid = 100

x0 = np.array([-1.5, 1.0])
v0 = np.array([0.3, -0.1])
m = 1/n_particle
particles = cosmology.ParticleDistribution(n_particle=n_particle, n_grid=n_grid, box_size=L, particle_mass=m,
                                           integrator=cosmology.LEAPFROG_INTEGRATOR,
                                           leapfrog_type=cosmology.DKD_LEAPFROG,
                                           force_calculation=cosmology.PM_FORCE_CALCULATION,
                                           force_boundary_term=cosmology.NO_FORCE_BOUNDARY_TERM)
particles.set_initial_conditions(x0, v0)

n_timesteps = 1000
dt = 0.01
particle_snapshots = np.empty((n_timesteps, 2, n_particle))
particle_snapshots_exact = np.empty((n_timesteps, 2, n_particle))

t = np.arange(n_timesteps)*dt
particle_snapshots, density_snapshots = particles.run(t)

np.set_printoptions(precision=2)
for i, cum_dt in enumerate(t):
    particle_snapshots_exact[i] = np.vstack(exact_two_body(x0, v0, m, cum_dt))
#     #print("t : ", particles.t)
#     #print("x : ", particles.x, "v : ", particles.v, "f : ", particles.f)
#     #print("x : ", particle_snapshots_exact[i,0], "v : ", particle_snapshots_exact[i,1])
#     #print("dx : ", particle_snapshots[i,0]-particle_snapshots_exact[i,0], "dv : ", particle_snapshots[i,1]-particle_snapshots_exact[i,1])

fig, plots = plt.subplots(1, 1)

phasespace_anim = utils.AnimatePhaseSpace([particle_snapshots, particle_snapshots_exact],
                                          fig, plots, xlim=(-L/2,L/2, -L/2,L/2), ylim=(-L/2,L/2, -L/2,L/2),
                                          trails=True,
                                          formats=[{"markersize" : 0.5}, {"markersize" : 0.5}],
                                          anim_kwargs={"interval" : 7})
fig.show()

#%%
fig, plots = plt.subplots(1, 1)
plots.imshow(np.sqrt(density_snapshots))
fig.show()

#%%
# Cosmological 1d N-body
n_particle = 10000
L = 2*pi
n_grid = 1000

x0 = L*np.random.rand(n_particle) - L/2
v0 = 5.0e-2*(np.random.rand(n_particle)-0.5)
m = 1/n_particle
particles = cosmology.ParticleDistribution(n_particle=n_particle, n_grid=n_grid, box_size=L, particle_mass=m,
                                           integrator=cosmology.LEAPFROG_INTEGRATOR,
                                           leapfrog_type=cosmology.DKD_LEAPFROG,
                                           force_calculation=cosmology.DIRECT_FORCE_CALCULATION)
particles.set_initial_conditions(x0, v0)

n_timesteps = 1000
dt = 0.05
t = np.arange(n_timesteps)*dt
particle_snapshots, density_snapshots = particles.run(t)

fig, plots = plt.subplots(1, 1)

phasespace_anim = utils.AnimatePhaseSpace([particle_snapshots],
                                          fig, plots, xlim=(-L/2,L/2, -L/2,L/2), ylim=(-L/2,L/2, -L/2,L/2),
                                          trails=False,
                                          formats=[{"markersize" : 0.5}, {"markersize" : 1}],
                                          anim_kwargs={"interval" : 7})
fig.show()