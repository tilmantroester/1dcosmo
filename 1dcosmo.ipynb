#%%
import importlib
import collections

import cProfile
import pstats

import numpy as np
import matplotlib.pyplot as plt
import matplotlib
import mpl_toolkits.axes_grid1

import cosmology
import utils

pi = np.pi

# 2 body validation
# importlib.reload(cosmology)
# importlib.reload(utils)

# def exact_two_body(x0, v0, m, t, L):
#     dx0 = x0[0] - x0[1]
#     dv0 = v0[0] - v0[1]
#     t_crossing = (-dv0+np.sqrt(dv0**2-4*m*dx0))/(2*m)
#     f0 = m*np.array([1, -1])*(2*(x0[0]<x0[1]) - 1)

#     if t < t_crossing:
#         x = x0 + v0*t + 0.5*f0*t**2
#         v = v0 + f0*t
#     else:
#         dvx = dv0 + 2*m*t_crossing
#         t_orbit = dvx/m
#         x_cm = np.sum(x0)/2
#         v_cm = np.sum(v0)/2
#         n_crossing = int((t-t_crossing)/t_orbit) + 1
#         orientation = 2*(n_crossing % 2) - 1
#         t0 = (t-t_crossing) % t_orbit
#         f = m*np.array([-1, 1])*orientation

#         vx = v_cm + dvx/2*orientation*np.array([1, -1])
#         x = vx*t0 + 0.5*f*t0**2
#         v = vx + f*t0
#         x += x_cm + v_cm*(t_crossing+(n_crossing-1)*t_orbit)

#     x = x % L
#     return x, v


# n_particle = 2
# L = 2*pi
# n_grid = 1000

# x0 = np.array([0.5, 1.0])
# v0 = np.array([-0.35, -0.1])
# m = 1/n_particle
# particles = cosmology.ParticleDistribution(n_particle=n_particle, n_grid=n_grid, box_size=L, particle_mass=m,
#                                            integrator=cosmology.LEAPFROG_INTEGRATOR,
#                                            leapfrog_type=cosmology.DKD_LEAPFROG,
#                                            force_calculation=cosmology.PM_FORCE_CALCULATION,
#                                            mesh_interpolation=cosmology.CIC_MESH_INTERPOLATION,
#                                            force_boundary_term=cosmology.FORCE_PERIODIC_BOUNDARY_TERM)
# particles.set_initial_conditions(x0, v0)

# n_timesteps = 1000
# dt = 0.02
# particle_snapshots = np.empty((n_timesteps, 2, n_particle))
# particle_snapshots_exact = np.empty((n_timesteps, 2, n_particle))

# t = np.arange(n_timesteps)*dt
# particle_snapshots, density_snapshots = particles.run(t)

# np.set_printoptions(precision=2)
# for i, cum_dt in enumerate(t):
#     particle_snapshots_exact[i] = np.vstack(exact_two_body(x0, v0, m, cum_dt, L))
# #     #print("t : ", particles.t)
#     # print("x : ", particles.x, "v : ", particles.v, "f : ", particles.f)
# #     #print("x : ", particle_snapshots_exact[i,0], "v : ", particle_snapshots_exact[i,1])
# #     #print("dx : ", particle_snapshots[i,0]-particle_snapshots_exact[i,0], "dv : ", particle_snapshots[i,1]-particle_snapshots_exact[i,1])

# fig, plots = plt.subplots(1, 1)

# phasespace_anim = utils.AnimatePhaseSpace([particle_snapshots, particle_snapshots_exact],
#                                           fig, plots, xlim=(0,L, 0,L), ylim=(-L/2,L/2, -L/2,L/2),
#                                           trails=True,
#                                           formats=[{"markersize" : 0.5}, {"markersize" : 0.5}],
#                                           anim_kwargs={"interval" : 7})
# fig.show()

# #%%
# fig, plots = plt.subplots(1, 1)
# plots.imshow(np.sqrt(density_snapshots))
# fig.show()

# #%%
# #### ========== Newtonian 1d N-body ================
# importlib.reload(cosmology)
# importlib.reload(utils)

# n_particle = 10000
# L = 1.0
# n_grid = n_particle

# #np.random.seed(42)
# x0 = L*np.linspace(0, 1, n_particle, endpoint=False)+L/n_particle*3/4
# x0 += 1.0e-3*L*np.random.rand(n_particle)
# v0 = np.zeros_like(x0)
# #v0 = 5.0e-23*np.random.randn(n_particle)
# m = 5.0e-1/n_particle

# n_timesteps = 1500
# dt = 0.05
# t = np.arange(n_timesteps)*dt

# config_direct = {"n_particle" : n_particle, "n_grid" : n_grid, "box_size" : L, "particle_mass" : m,
#                  "integrator" : cosmology.LEAPFROG_INTEGRATOR,
#                  "leapfrog_type" : cosmology.DKD_LEAPFROG,
#                  "force_calculation" : cosmology.DIRECT_FORCE_CALCULATION,
#                  "mesh_interpolation" : cosmology.NGP_MESH_INTERPOLATION}
# config_pm_ngp = {"n_particle" : n_particle, "n_grid" : n_grid, "box_size" : L, "particle_mass" : m,
#                  "integrator" : cosmology.LEAPFROG_INTEGRATOR,
#                  "leapfrog_type" : cosmology.DKD_LEAPFROG,
#                  "force_calculation" : cosmology.PM_FORCE_CALCULATION,
#                  "mesh_interpolation" : cosmology.NGP_MESH_INTERPOLATION}
# config_pm_cic = {"n_particle" : n_particle, "n_grid" : n_grid, "box_size" : L, "particle_mass" : m,
#                  "integrator" : cosmology.LEAPFROG_INTEGRATOR,
#                  "leapfrog_type" : cosmology.DKD_LEAPFROG,
#                  "force_calculation" : cosmology.PM_FORCE_CALCULATION,
#                  "mesh_interpolation" : cosmology.CIC_MESH_INTERPOLATION}

# stats = collections.OrderedDict()
# particle_snapshots = collections.OrderedDict()
# density_snapshots = collections.OrderedDict()

# for name, config in {"direct" : config_direct,
#                      "PM NGP" : config_pm_ngp,
#                      "PM CIC" : config_pm_cic,
#                      }.items():
#     print("Running {}".format(name))
#     particles = cosmology.ParticleDistribution(**config)
#     particles.set_initial_conditions(x0, v0)
    
#     stats[name], particle_snapshots[name] = particles.run(t, particle_snapshot_skip=5, density=False)
    
# #cProfile.run("particle_snapshots, density_snapshots = particles.run(t, particle_snapshot_skip=10)", "output/profiling_stats")
# #cProfile.run("particle_snapshots = particles.run(t, particle_snapshot_skip=10, density=False)", "output/profiling_stats")

# #%%
# importlib.reload(utils)
# fig, plots = plt.subplots(1, 1)

# phasespace_anim = utils.AnimatePhaseSpace(list(particle_snapshots.values()),
#                                           fig, plots, xlim=(0,L),
#                                           trails=False,
#                                           formats=[{"marker" : ",", "markersize" : 0.1, "lw" : 0}, 
#                                                    {"marker" : ",", "markersize" : 0.1, "lw" : 0},
#                                                    {"marker" : ",", "markersize" : 0.1, "lw" : 0}],
#                                           anim_kwargs={"interval" : 50, "blit" : False})
# fig.show()

# #%%
# fig, plots = plt.subplots(1, 1, figsize=(10, 7))
# plots.imshow(np.sqrt(density_snapshots), origin="lower", cmap=plt.get_cmap("inferno"))
# plots.set_xlabel("x")
# plots.set_ylabel("t")
# fig.show()

# #%%
# profiling_stats = pstats.Stats("output/profiling_stats")
# profiling_stats.strip_dirs().sort_stats("cumtime").print_stats(20)

#%%
#### ========== Cosmology 1d N-body ============ #########
importlib.reload(cosmology)
importlib.reload(utils)

n_particle = 100000
L = 5000.0
n_grid = n_particle//5
n_timesteps = 500
a_min = 0.02
a_max = 1.0

#n_snapshot = 50
#snapshot_timestep_idx = np.linspace(0, n_timesteps-1, n_snapshot, endpoint=True, dtype=int)

snapshot_z = np.array([4, 3, 2, 1, 0])
n_snapshot = snapshot_z.size + 1 

downsample_density = n_grid//1000
downsample_particles = n_particle//50000

k_min = 2*pi/L
k_max = pi/L*n_grid
n_k_bin = 100

Omega_m = 0.3
Omega_L = 1.0-Omega_m
beta = 0.5

config_direct_LCDM_dt = {"n_particle" : n_particle, "n_grid" : n_grid, "box_size" : L,
                         "integrator" : cosmology.LEAPFROG_INTEGRATOR,
                         "time_unit" : cosmology.DT_TIMESTEPS,
                         "leapfrog_type" : cosmology.DKD_LEAPFROG,
                         "force_calculation" : cosmology.DIRECT_FORCE_CALCULATION,
                         "mesh_interpolation" : cosmology.CIC_MESH_INTERPOLATION,
                         "leapfrog_drift_type" : cosmology.SYMPLECTIC_DRIFT,
                         "leapfrog_kick_type" : cosmology.SYMPLECTIC_KICK,
                         #"leapfrog_kick_type" : cosmology.FLRW_KICK,
                         "density_scaling" : cosmology.DENSITY_SCALING_3D,
                         "h" : 0.7, "Omega_m" : Omega_m, "Omega_L" : Omega_L,
                         "beta" : 1.0}

config_direct_LCDM_dl = {"n_particle" : n_particle, "n_grid" : n_grid, "box_size" : L,
                         "integrator" : cosmology.LEAPFROG_INTEGRATOR,
                         "time_unit" : cosmology.DLAMBDA_TIMESTEPS,
                         "leapfrog_type" : cosmology.DKD_LEAPFROG,
                         "force_calculation" : cosmology.DIRECT_FORCE_CALCULATION,
                         "pm_type" : cosmology.FFT_PM,
                         "mesh_interpolation" : cosmology.CIC_MESH_INTERPOLATION,
                         "leapfrog_kick_type" : cosmology.FLRW_KICK,
                         "density_scaling" : cosmology.DENSITY_SCALING_3D,
                         "h" : 0.7, "Omega_m" : Omega_m, "Omega_L" : Omega_L,
                         "beta" : beta}

config_FFT_PM_LCDM_dl = {"n_particle" : n_particle, "n_grid" : n_grid, "box_size" : L,
                         "integrator" : cosmology.LEAPFROG_INTEGRATOR,
                         "time_unit" : cosmology.DLAMBDA_TIMESTEPS,
                         "leapfrog_type" : cosmology.DKD_LEAPFROG,
                         "force_calculation" : cosmology.PM_FORCE_CALCULATION,
                         "pm_type" : cosmology.FFT_PM,
                         "mesh_interpolation" : cosmology.CIC_MESH_INTERPOLATION,
                         "leapfrog_kick_type" : cosmology.FLRW_KICK,
                         "density_scaling" : cosmology.DENSITY_SCALING_3D,
                         "h" : 0.7, "Omega_m" : Omega_m, "Omega_L" : Omega_L,
                         "beta" : beta}

config_direct_LCDM_dt_zeldovich = {"n_particle" : n_particle, "n_grid" : n_grid, "box_size" : L,
                         "integrator" : cosmology.ZELDOVICH_INTEGRATOR,
                         "time_unit" : cosmology.DT_TIMESTEPS,
                         "leapfrog_type" : cosmology.DKD_LEAPFROG,
                         "force_calculation" : cosmology.PM_FORCE_CALCULATION,
                         "mesh_interpolation" : cosmology.CIC_MESH_INTERPOLATION,
                         "leapfrog_kick_type" : cosmology.FLRW_KICK,
                         "density_scaling" : cosmology.DENSITY_SCALING_3D,
                         "h" : 0.7, "Omega_m" : Omega_m, "Omega_L" : Omega_L,
                         "beta" : 1.0}

config_direct_LCDM_dl_zeldovich = {"n_particle" : n_particle, "n_grid" : n_grid, "box_size" : L,
                         "integrator" : cosmology.ZELDOVICH_INTEGRATOR,
                         "time_unit" : cosmology.DLAMBDA_TIMESTEPS,
                         "leapfrog_type" : cosmology.DKD_LEAPFROG,
                         "force_calculation" : cosmology.PM_FORCE_CALCULATION,
                         "mesh_interpolation" : cosmology.CIC_MESH_INTERPOLATION,
                         "leapfrog_kick_type" : cosmology.FLRW_KICK,
                         "density_scaling" : cosmology.DENSITY_SCALING_3D,
                         "h" : 0.7, "Omega_m" : Omega_m, "Omega_L" : Omega_L,
                         "beta" : beta}


visualization_snapshots = collections.OrderedDict()
seed = 34

for name, config in [#("direct LCDM dt", config_direct_LCDM_dt),
                     #("direct LCDM zeldovich dt", config_direct_LCDM_dt_zeldovich)
                     ("direct LCDM dl", config_direct_LCDM_dl),
                     #("FFT PM LCDM dl", config_FFT_PM_LCDM_dl),
                     #("direct LCDM zeldovich dl", config_direct_LCDM_dl_zeldovich),
                     ]:
    print("Running {}".format(name))
    particles = cosmology.ParticleDistribution(**config)
    np.random.seed(seed)
    #grid = particles.L*np.linspace(0, 1, particles.n_grid)
    #d = np.exp(-0.5*(grid-0.5*particles.L)**2/(0.1*particles.L)**2)
    #d = d/np.mean(d) - 1
    #d *= 5.0e-1
    particles.create_initial_conditions_CDM(utils.interpolated_powerspectrum_from_file("data/ps_lin_z=0.txt"), a_min)
    #particles.create_initial_conditions_density(d, a_min)

    visualization_snapshots[name] = {"snapshots" : cosmology.ParticleSnapshots(
                                                        particles,
                                                        run_id="{}_{}".format(seed, name.replace(" ", "-")),
                                                        n_snapshot=n_snapshot,
                                                        phase_space=True, particle_downsampling=downsample_particles,
                                                        density=True, density_downsampling=downsample_density,
                                                        power_spectrum=True, n_k_bin=None, k_min=k_min, k_max=k_max, logspaced=True, linear_powerspectrum=True,
                                                        phases=False,
                                                        halos=False,
                                                        keep_in_memory=False,
                                                        output_directory="output/snapshots/",
                                                        phase_space_filename_format="run{run_id}_L{L:.0f}_n{n_particle:.1e}_z{z:.3f}_phase_space",
                                                        density_filename_format="run{run_id}_L{L:.0f}_n{n_particle:.1e}_z{z:.3f}_density",
                                                        power_spectrum_filename_format="run{run_id}_L{L:.0f}_n{n_particle:.1e}_z{z:.3f}_power_spectrum",
                                                        file_format="npz"),
                                     }
            
    if particles.time_unit == cosmology.DT_TIMESTEPS:
        t_min = particles.t_of_a(a_min)
        t_max = particles.t_of_a(a_max)
        #t = np.linspace(t_min, t_max, n_timesteps)
        #a = particles.scale_factor(t)
        a = np.linspace(a_min, a_max, n_timesteps)
        t = particles.t_of_a(a)
        particles.run(t, [visualization_snapshots[name]])

    elif particles.time_unit == cosmology.DLAMBDA_TIMESTEPS:
        a = np.linspace(a_min, a_max, n_timesteps)
        l = np.linspace(a_min**particles.beta, a_max**particles.beta, n_timesteps,endpoint=True)
        snapshot_l = np.concatenate((l[0:1], 1/(1+snapshot_z)**particles.beta))
        l, visualization_snapshots[name]["timestep_idx"] = cosmology.insert_snapshot_timesteps(l, snapshot_l)
        cProfile.run("""particles.run(l, [visualization_snapshots[name]], verbose=False)""", "output/profiling_stats")

#%%
profiling_stats = pstats.Stats("output/profiling_stats")
profiling_stats.strip_dirs().sort_stats("cumtime").print_stats(20)

#%%
importlib.reload(cosmology)
importlib.reload(utils)

simulation_visualization = cosmology.VisualizeSnapshots(list(visualization_snapshots.values()),
                                                        plots=((cosmology.PHASESPACE_PLOT, cosmology.POWERSPECTRUM_PLOT),),
                                                        anim_kwargs={"interval" : 50, "blit" : False})
simulation_visualization.fig.show()

#%%
plt.cla()
# plt.plot(*snapshots["direct LCDM dl"][-1].phasespace, ls="none", marker=",")
# plt.plot(*snapshots["direct LCDM zeldovich"][-1].phasespace, ls="none", marker=",")
# plt.plot(snapshots["direct LCDM zeldovich"][0].phasespace[0], snapshots["direct LCDM zeldovich"][0].phasespace[1]/snapshots["direct LCDM dt"][0].phasespace[1], ls="none", marker=",")
#plt.ylim(0,2)
plt.plot([snapshots["direct LCDM dt"][i].phasespace[1,int(n_particle//downsample_particles/2.5)] for i in range(len(snapshots["direct LCDM dt zeldovich"]))])
plt.plot([snapshots["direct LCDM dt zeldovich"][i].phasespace[1,int(n_particle//downsample_particles/2.5)] for i in range(len(snapshots["direct LCDM dt zeldovich"]))])
plt.show()

#%%
zp1 = np.array([1/p.a for p in snapshots["direct LCDM dl"]])
d = np.array([p.density/np.mean(p.density)-1 for p in snapshots["direct LCDM dl"]])
# p = np.array([p.phases for p in snapshots["direct LCDM dl"]])
# A = np.array([p.magnitudes for p in snapshots["direct LCDM dl"]])

matplotlib.rc("font", size=6)
matplotlib.rc("font", family="serif")
matplotlib.rc('text', usetex=True)

fig, plots = plt.subplots(2, 1, figsize=(3.2,3), sharex=True, dpi=300)
fig.subplots_adjust(hspace=0.0, left=0.2, bottom=0.15, top=0.98, right=0.98)

im = plots[0].imshow(np.log(d+1.1), origin="lower", interpolation="none", aspect=0.05, extent=(0, L, 0, d.shape[0]))
#plots[0].autoscale(False)
plots[0].set_ylabel("1+z")
#plots[0].set_yticks([i for i in range(0, d.shape[0], 100)]+[d.shape[0]-1])
plots[0].set_yticklabels((["{:.1f}".format(z) for z in zp1[::-1][::100]]+["{:.1f}".format(zp1[0]),])[::-1], clip_on=False)
plots[0].set_yticks([i for i in range(0, d.shape[0], 100)]+[d.shape[0]-1])
#plots[0].set_yticklabels((["{:.1f}".format(z) for z in zp1[::-1][::100]]+["A"])[::-1])

im.set_extent((0, L, 0, d.shape[0]))


plots[1].plot(*snapshots["direct LCDM dl"][-1].phasespace[:,::5], marker=",", ms=0.01, ls="none", rasterized=True)
#plots[1].scatter(*snapshots["direct LCDM dl"][-1].phasespace[:,::5], marker=".", s=1, lw=0)

plots[1].set_xlabel(r"x [Mpc h$^{-1}$]")
plots[1].set_ylabel(r"v [km s$^{-1}$]")

#plots[1].set_xticks(np.linspace(0, d.shape[1], 6))
#plots[1].set_xticklabels(np.linspace(0, L, 6))
plots[1].set_xlim(0,L)
plots[1].set_ylim(-500, 500)

#plt.subplot(122)
# plt.imshow(p, origin="lower", cmap=plt.get_cmap("gist_rainbow"))
# plt.subplot(133)
# plt.imshow(np.log(A), origin="lower")
fig.savefig("output/density_phasespace_plot.pdf")
fig.show()

#%%
plt.ion()

#%%
arr = np.load("output/snapshots/run34_direct-LCDM-dl_L50_n1.0e+05_z4.000_power_spectrum.npz")
plt.loglog(arr["k_mean"], arr["power_spectrum"], ls="-")
plt.loglog(arr["k_mean"], arr["linear_power_spectrum"], ls="-")

#%%
def plot_phase_corr(phases, n_corr_bin, mode="full"):
    corr = np.correlate(phases, phases, mode)
    corr = (corr[:corr.size//2+1][::-1] + corr[corr.size//2:])[:-1]/2
    plt.errorbar(np.arange(n_corr_bin), 
                utils.rebin_1D(corr, (n_corr_bin,)), 
                corr.reshape(n_corr_bin, corr.size//n_corr_bin).std(-1)/np.sqrt(corr.size//n_corr_bin), 
                ls="-", lw="1", marker="o", ms=4.0)

plot_phase_corr(p[0], 50)
plot_phase_corr(p[-1], 50)
plt.axhline()
plt.show()


#%%
np.fft.rfftfreq(100)*2*pi*100

#%%
# Checking cosmology and units
importlib.reload(cosmology)
H0 = 70.0/3.085e19 #s^-1
h = 0.7
Omega_m = 0.3
Omega_L = 1 - Omega_m
cosmo = cosmology.ParticleDistribution(1, 1, 1,
                                        **{"density_scaling" : cosmology.DENSITY_SCALING_3D,
                                           "h" : h, "Omega_m" : Omega_m, "Omega_L" : Omega_L})
print("3D")
print("Age of the Universe: {:.3e} yr".format(cosmo.t_of_a_3D(1.0)/(365*24*3600)))

cosmo = cosmology.ParticleDistribution(1, 1, 1,
                                        **{"density_scaling" : cosmology.DENSITY_SCALING_1D,
                                           "h" : h, "Omega_m" : Omega_m, "Omega_L" : Omega_L, "beta" : 1.0})
print("1D")
print("Age of the Universe: {:.3e} yr".format(cosmo.t_of_a_1D(1.0)/(365*24*3600)))

print("rho_c: {:.3e} h^2 M_sol Mpc^-3".format(cosmo.rho_c/cosmo.L0**3))
print("M0: {:.3e} h^-1 M_sol".format(cosmo.rho_c))

T0 = 1/cosmo.H0_s

print("{:.3e}".format(cosmo.rho_c_h_M_sol_L03/cosmo.L0**3))
print("{:.3e}".format(cosmo.m))
print("{:.3e}".format(cosmo.m_h_M_sol_L02/cosmo.L0**2))
print("{:.3e}".format(cosmo.G*cosmo.L0**3*(cosmo.Mpc_m)**3/cosmo.T0**2/2.0e30))


#%%
importlib.reload(cosmology)

h = 0.7
Omega_m = 0.3
Omega_L = 1 - Omega_m
cosmo = cosmology.ParticleDistribution(1, 1, 1,
                                        **{"density_scaling" : cosmology.DENSITY_SCALING_3D,
                                           "h" : h, "Omega_m" : Omega_m, "Omega_L" : Omega_L})

print(cosmo.Hubble(0.01))
# dl = 0.001
# a = np.linspace(0.01, 1, 50)
# l = a**cosmo.beta
# H = cosmo.Hubble(a)
# B = 2/l + cosmo.a_ddot(a)/(a*l*H**2)
# A_1D = 2*pi*cosmo.G/(l**2*H**2)
# A_3D = 2*pi*cosmo.G/(a**2*l**2*H**2)

# #plt.plot(a, (1-B*dl))
# plt.plot(a, (1-2*H*dl/(a*H)))

#plt.semilogy(a, A_1D*dl)
#plt.semilogy(a, np.abs(B))
#plt.semilogy(a, np.abs(A_3D))

# plt.show()

#%%
[s["Max[v]"] for s in stats]

#%%
import scipy.interpolate
importlib.reload(cosmology)
importlib.reload(utils)
# Initial conditions
P = utils.interpolated_powerspectrum_from_file("data/ps_lin_z=0.txt")

# def P(k):
#     return k**-2.5

L = 100.0 # Mpc/h
n_grid = 1000
n_particle = 100000

h = 0.7
Omega_m = 1.0
Omega_L = 1 - Omega_m
cosmo = cosmology.ParticleDistribution(1, 1, L,
                                        **{"density_scaling" : cosmology.DENSITY_SCALING_3D,
                                           "h" : h, "Omega_m" : Omega_m, "Omega_L" : Omega_L, "beta" : 1.0})

#k_grid = np.fft.rfftfreq(n_grid)
#k_min = 2*pi/(L/n_grid)
#P(k_grid*k_min)

a0 = 1.0

P_lin = lambda k: P(k/cosmo.L0)/cosmo.L0

grid = L/cosmo.L0*np.linspace(0, 1, n_grid)

#d, dk, k = utils.create_Gaussian_field_1d(P_lin, n_grid, L/cosmo.L0, output_FT=True)
d = np.exp(-0.5*(grid-0.5*L/cosmo.L0)**2/(0.1*L/cosmo.L0)**2)
d = d/np.mean(d) - 1
d *= 2.0e-1
dk = np.fft.rfft(d)
k = np.fft.rfftfreq(n_grid)*2*pi/L*cosmo.L0*n_grid

uk = np.zeros_like(dk)
uk[k!=0] = 1j/k[k!=0]*dk[k!=0]
uk[k==0] = 0
u0 = np.fft.irfft(uk)

u = u0*cosmo.dgrowth_rate_dl(a0)
Psi = u0*cosmo.growth_rate(a0)

x = L/cosmo.L0*(np.linspace(0, 1, n_particle, endpoint=False)+0.5/n_particle)
x += cosmology.grid_lookup_cic_numba(x, Psi, n_particle, n_grid, L/cosmo.L0)
print(np.max(np.abs(Psi))/(L/cosmo.L0/n_particle))
x = np.mod(x, L/cosmo.L0)
d_cic = cosmology.grid_create_cic_numba(x, n_grid, L/cosmo.L0, 1)
d_cic = d_cic/np.mean(d_cic) - 1.0

plt.cla()

plt.plot(grid, d*cosmo.growth_rate(a0), lw=2)
#plt.plot(grid, u)
plt.plot(grid, d_cic, lw=1)
#plt.plot(grid, Psi/(L/cosmo.L0/n_particle))
#plt.axhline()
plt.show()
#%%
# P_estimate, _, k_estimate, _ = utils.calculate_pseudo_P_k_1d(d, d, L/cosmo.L0, n_k_bin=10, k_min=2*pi/L*cosmo.L0, k_max=pi/L*cosmo.L0*n_grid, logspaced=True)
# plt.loglog(k_estimate, P_estimate)
# plt.loglog(k_estimate, P_lin(k_estimate))
P_estimate, _, k_estimate, _ = utils.calculate_pseudo_P_k_1d(d_cic, d_cic, L/cosmo.L0, n_k_bin=10, k_min=2*pi/L*cosmo.L0, k_max=pi/L*cosmo.L0*n_grid, logspaced=True)
plt.loglog(k_estimate, P_estimate)
plt.loglog(k_estimate, P_lin(k_estimate)*cosmo.growth_rate(a0)**2)
plt.show()
#%%
a = np.linspace(0.01, 1, 100)
# plt.plot(a, a)
# plt.plot(a, cosmo.growth_rate_3D(a))
# plt.plot(a, [cosmo.growth_rate(i) for i in a])

cosmo.growth_rate_3D(1.0)
cosmo.growth_rate(1.0)

D = np.array([cosmo.growth_rate(i) for i in a])

#plt.plot(a, D)
f = (D[1:]-D[:-1])/(a[1:]-a[:-1])
plt.plot(a[1:], f)
# plt.plot(a[1:], (1/(1-Omega_L*a**3)**0.6)[1:])
plt.plot(a, [cosmo.dgrowth_rate_dl(i) for i in a])

plt.show()
#%%
importlib.reload(cosmology)
sort_idx = np.argsort(snapshots["direct LCDM dl"][-1].phasespace[0])
x = snapshots["direct LCDM dl"][-1].phasespace[0,sort_idx]
v = snapshots["direct LCDM dl"][-1].phasespace[1,sort_idx]

#halo_id = cosmology.find_halos_fof(x, 10.0*np.mean(x[1:]-x[:-1]), snapshots["direct LCDM dl"][-1].L)
halo_id = cosmology.find_halos_fof(x, 0.2*snapshots["direct LCDM dl"][-1].L/x.size, snapshots["direct LCDM dl"][-1].L)

for i in range(np.max(halo_id)):
    if np.count_nonzero(halo_id==i) < 5:
        halo_id[halo_id==i] = 0

plt.scatter(x, v, s=0.1, marker=",", alpha=1, c=plt.get_cmap("jet")(halo_id/np.max(halo_id)))
plt.show()


#%%
l = np.array([[1], [2], [3]])
for i, j in np.ndenumerate(l):
    print(i)
l